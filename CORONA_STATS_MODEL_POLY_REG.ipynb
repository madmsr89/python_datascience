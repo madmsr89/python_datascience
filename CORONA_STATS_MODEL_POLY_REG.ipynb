{
  "nbformat": 4,
  "nbformat_minor": 0,
  "metadata": {
    "colab": {
      "name": "CORONA_STATS_MODEL_POLY_REG.ipynb",
      "provenance": [],
      "collapsed_sections": []
    },
    "kernelspec": {
      "name": "python3",
      "display_name": "Python 3"
    }
  },
  "cells": [
    {
      "cell_type": "code",
      "metadata": {
        "id": "kQVOuIqmL4vH",
        "colab_type": "code",
        "colab": {}
      },
      "source": [
        ""
      ],
      "execution_count": null,
      "outputs": []
    },
    {
      "cell_type": "markdown",
      "metadata": {
        "id": "EtfZR1NtMbjt",
        "colab_type": "text"
      },
      "source": [
        "**Import Libararies**\n"
      ]
    },
    {
      "cell_type": "code",
      "metadata": {
        "id": "DFRmyAENMjUw",
        "colab_type": "code",
        "colab": {}
      },
      "source": [
        "import pandas as pd\n",
        "import numpy as np\n",
        "import matplotlib.pyplot as plt"
      ],
      "execution_count": 2,
      "outputs": []
    },
    {
      "cell_type": "markdown",
      "metadata": {
        "id": "AKPZXYkeMtnY",
        "colab_type": "text"
      },
      "source": [
        "**Import data to the process**"
      ]
    },
    {
      "cell_type": "code",
      "metadata": {
        "id": "Ifvc-_2KMxaa",
        "colab_type": "code",
        "colab": {}
      },
      "source": [
        "dataset = pd.read_csv('CORONA_TN_DATA.csv')\n",
        "X = dataset.iloc[:, 1:-1].values\n",
        "y = dataset.iloc[:, -1].values\n",
        "print(X)"
      ],
      "execution_count": null,
      "outputs": []
    },
    {
      "cell_type": "markdown",
      "metadata": {
        "id": "_04C9Y8JO7k3",
        "colab_type": "text"
      },
      "source": [
        "**Implement the Linear Regression Model for Test case and Positive Ratio**"
      ]
    },
    {
      "cell_type": "code",
      "metadata": {
        "id": "fEqfW1BjPDu-",
        "colab_type": "code",
        "colab": {
          "base_uri": "https://localhost:8080/",
          "height": 34
        },
        "outputId": "9c1d3aa5-bf0d-4d4a-dded-625b5abe7cd8"
      },
      "source": [
        "from sklearn.linear_model import LinearRegression\n",
        "lr = LinearRegression()\n",
        "lr.fit(X, y)"
      ],
      "execution_count": 5,
      "outputs": [
        {
          "output_type": "execute_result",
          "data": {
            "text/plain": [
              "LinearRegression(copy_X=True, fit_intercept=True, n_jobs=None, normalize=False)"
            ]
          },
          "metadata": {
            "tags": []
          },
          "execution_count": 5
        }
      ]
    },
    {
      "cell_type": "markdown",
      "metadata": {
        "id": "aKUhSnlOPVct",
        "colab_type": "text"
      },
      "source": [
        "**Use Polynomial Features** "
      ]
    },
    {
      "cell_type": "code",
      "metadata": {
        "id": "mpRmY1e2Pn7E",
        "colab_type": "code",
        "colab": {
          "base_uri": "https://localhost:8080/",
          "height": 34
        },
        "outputId": "15a820f3-f2fd-4313-b81b-aaade5f5d5ab"
      },
      "source": [
        "from sklearn.preprocessing import PolynomialFeatures\n",
        "poly_reg = PolynomialFeatures(degree = 4)\n",
        "X_poly = poly_reg.fit_transform(X) \n",
        "lr2 = LinearRegression()\n",
        "lr2.fit(X_poly,y)"
      ],
      "execution_count": 17,
      "outputs": [
        {
          "output_type": "execute_result",
          "data": {
            "text/plain": [
              "LinearRegression(copy_X=True, fit_intercept=True, n_jobs=None, normalize=False)"
            ]
          },
          "metadata": {
            "tags": []
          },
          "execution_count": 17
        }
      ]
    },
    {
      "cell_type": "markdown",
      "metadata": {
        "id": "ZoCr443UVDh3",
        "colab_type": "text"
      },
      "source": [
        "**Predict and Plot with Simple Linear Regression data**"
      ]
    },
    {
      "cell_type": "code",
      "metadata": {
        "id": "GfTqIklcVHic",
        "colab_type": "code",
        "colab": {
          "base_uri": "https://localhost:8080/",
          "height": 294
        },
        "outputId": "3d6f72e5-995b-4419-b7d9-5d5733407429"
      },
      "source": [
        "Y_pred =  lr.predict(X)\n",
        "plt.scatter(X, y, color='red')\n",
        "plt.plot(X,lr.predict(X), color='blue')\n",
        "plt.title('Corona Tests vs Positive data(Training set)')\n",
        "plt.xlabel('Number of tests')\n",
        "plt.ylabel('Number of Positives')\n",
        "plt.show()\n",
        "\n"
      ],
      "execution_count": 13,
      "outputs": [
        {
          "output_type": "display_data",
          "data": {
            "image/png": "[encoded data removed]",
            "text/plain": [
              "<Figure size 432x288 with 1 Axes>"
            ]
          },
          "metadata": {
            "tags": [],
            "needs_background": "light"
          }
        }
      ]
    },
    {
      "cell_type": "markdown",
      "metadata": {
        "id": "iA5KkhBXW50D",
        "colab_type": "text"
      },
      "source": [
        "**Predict and Plot with Polynomial Regression**\n"
      ]
    },
    {
      "cell_type": "code",
      "metadata": {
        "id": "i0vjmjuVXAnM",
        "colab_type": "code",
        "colab": {
          "base_uri": "https://localhost:8080/",
          "height": 294
        },
        "outputId": "8ee0bf0b-07f1-4374-afb7-1ad5b62d5e55"
      },
      "source": [
        "Y_pred =  lr.predict(X)\n",
        "plt.scatter(X, y, color='red')\n",
        "plt.plot(X,lr2.predict(X_poly), color='blue')\n",
        "plt.title('Corona Tests vs Positive data(Training set)')\n",
        "plt.xlabel('Number of tests')\n",
        "plt.ylabel('Number of Positives')\n",
        "plt.show()\n"
      ],
      "execution_count": 22,
      "outputs": [
        {
          "output_type": "display_data",
          "data": {
            "image/png": "[encoded data removed]",
            "text/plain": [
              "<Figure size 432x288 with 1 Axes>"
            ]
          },
          "metadata": {
            "tags": [],
            "needs_background": "light"
          }
        }
      ]
    },
    {
      "cell_type": "markdown",
      "metadata": {
        "id": "VwXaviN_XKz-",
        "colab_type": "text"
      },
      "source": [
        "**Predict Value for particular index in Linear reg model**"
      ]
    },
    {
      "cell_type": "code",
      "metadata": {
        "id": "uH0knP1jXSIU",
        "colab_type": "code",
        "colab": {
          "base_uri": "https://localhost:8080/",
          "height": 34
        },
        "outputId": "a4fe06c2-ca6a-446b-ecc4-d02e4bddd40e"
      },
      "source": [
        "lr.predict([[78000]])"
      ],
      "execution_count": 19,
      "outputs": [
        {
          "output_type": "execute_result",
          "data": {
            "text/plain": [
              "array([5502.29858553])"
            ]
          },
          "metadata": {
            "tags": []
          },
          "execution_count": 19
        }
      ]
    },
    {
      "cell_type": "markdown",
      "metadata": {
        "id": "p1HzPUc5ZfiB",
        "colab_type": "text"
      },
      "source": [
        "**Predict the Particular Index in Polynomial Regression**"
      ]
    },
    {
      "cell_type": "code",
      "metadata": {
        "id": "yWNiq4p2XiGH",
        "colab_type": "code",
        "colab": {
          "base_uri": "https://localhost:8080/",
          "height": 34
        },
        "outputId": "748c9530-a0be-4ab4-8ef4-312654ac2859"
      },
      "source": [
        "lr2.predict(poly_reg.fit_transform([[78000]]))"
      ],
      "execution_count": 20,
      "outputs": [
        {
          "output_type": "execute_result",
          "data": {
            "text/plain": [
              "array([3653.12097337])"
            ]
          },
          "metadata": {
            "tags": []
          },
          "execution_count": 20
        }
      ]
    }
  ]
}